{
  "nbformat": 4,
  "nbformat_minor": 0,
  "metadata": {
    "colab": {
      "name": "Keerthana M.ipynb",
      "provenance": [],
      "collapsed_sections": []
    },
    "kernelspec": {
      "name": "python3",
      "display_name": "Python 3"
    },
    "language_info": {
      "name": "python"
    }
  },
  "cells": [
    {
      "cell_type": "code",
      "metadata": {
        "colab": {
          "base_uri": "https://localhost:8080/"
        },
        "id": "CXRsboekRIiT",
        "outputId": "8dba586a-e6f2-4758-fee6-4b66975adaca"
      },
      "source": [
        "import hashlib\n",
        "s=input(\"Enter the string:\")\n",
        "result = hashlib.md5(s.encode())\n",
        "print(\"The hexadecimal equivalent of hash is : \", end =\"\")\n",
        "print(result.hexdigest())"
      ],
      "execution_count": 4,
      "outputs": [
        {
          "output_type": "stream",
          "text": [
            "Enter the string:hello\n",
            "The hexadecimal equivalent of hash is : 5d41402abc4b2a76b9719d911017c592\n"
          ],
          "name": "stdout"
        }
      ]
    },
    {
      "cell_type": "code",
      "metadata": {
        "colab": {
          "base_uri": "https://localhost:8080/"
        },
        "id": "bt-ZjNO_XzOZ",
        "outputId": "00c69bc2-1c00-40a2-88a0-f262e568138f"
      },
      "source": [
        "import hashlib\n",
        "s=input(\"Enter the string:\")\n",
        "result = hashlib.sha1(s.encode())\n",
        "print(\"The hexadecimal equivalent of hash is : \", end =\"\")\n",
        "print(result.hexdigest())"
      ],
      "execution_count": 16,
      "outputs": [
        {
          "output_type": "stream",
          "text": [
            "Enter the string:hello\n",
            "The hexadecimal equivalent of hash is : aaf4c61ddcc5e8a2dabede0f3b482cd9aea9434d\n"
          ],
          "name": "stdout"
        }
      ]
    },
    {
      "cell_type": "code",
      "metadata": {
        "colab": {
          "base_uri": "https://localhost:8080/"
        },
        "id": "NYh0emSFaJ-O",
        "outputId": "1c99e053-2f96-4ff0-8543-927071f00e3a"
      },
      "source": [
        "import hashlib\n",
        "s=input(\"Enter the string:\")\n",
        "result = hashlib.sha256(s.encode())\n",
        "print(\"The hexadecimal equivalent of hash is : \", end =\"\")\n",
        "print(result.hexdigest())"
      ],
      "execution_count": 17,
      "outputs": [
        {
          "output_type": "stream",
          "text": [
            "Enter the string:hello\n",
            "The hexadecimal equivalent of hash is : 2cf24dba5fb0a30e26e83b2ac5b9e29e1b161e5c1fa7425e73043362938b9824\n"
          ],
          "name": "stdout"
        }
      ]
    },
    {
      "cell_type": "code",
      "metadata": {
        "colab": {
          "base_uri": "https://localhost:8080/"
        },
        "id": "5DqO-o0aaOvd",
        "outputId": "2db7970a-6958-4f2b-b2c0-1f307d1387fe"
      },
      "source": [
        "import hashlib\n",
        "s=input(\"Enter the string:\")\n",
        "result = hashlib.sha512(s.encode())\n",
        "print(\"The hexadecimal equivalent of hash is : \", end =\"\")\n",
        "print(result.hexdigest())"
      ],
      "execution_count": 18,
      "outputs": [
        {
          "output_type": "stream",
          "text": [
            "Enter the string:hello\n",
            "The hexadecimal equivalent of hash is : 9b71d224bd62f3785d96d46ad3ea3d73319bfbc2890caadae2dff72519673ca72323c3d99ba5c11d7c7acc6e14b8c5da0c4663475c2e5c3adef46f73bcdec043\n"
          ],
          "name": "stdout"
        }
      ]
    }
  ]
}